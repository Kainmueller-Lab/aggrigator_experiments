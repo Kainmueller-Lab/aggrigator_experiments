{
 "cells": [
  {
   "cell_type": "code",
   "execution_count": null,
   "id": "c805ca32",
   "metadata": {},
   "outputs": [
    {
     "name": "stdout",
     "output_type": "stream",
     "text": [
      "c:\\Users\\cwinklm\\Documents\\aggrigator_experiments\\datasets\\Weedsgalore\n"
     ]
    },
    {
     "ename": "ImportError",
     "evalue": "attempted relative import with no known parent package",
     "output_type": "error",
     "traceback": [
      "\u001b[1;31m---------------------------------------------------------------------------\u001b[0m",
      "\u001b[1;31mImportError\u001b[0m                               Traceback (most recent call last)",
      "Cell \u001b[1;32mIn[15], line 6\u001b[0m\n\u001b[0;32m      4\u001b[0m \u001b[38;5;28;01mimport\u001b[39;00m\u001b[38;5;250m \u001b[39m\u001b[38;5;21;01mmatplotlib\u001b[39;00m\u001b[38;5;21;01m.\u001b[39;00m\u001b[38;5;21;01mpyplot\u001b[39;00m\u001b[38;5;250m \u001b[39m\u001b[38;5;28;01mas\u001b[39;00m\u001b[38;5;250m \u001b[39m\u001b[38;5;21;01mplt\u001b[39;00m\n\u001b[0;32m      5\u001b[0m \u001b[38;5;28mprint\u001b[39m(os\u001b[38;5;241m.\u001b[39mgetcwd())\n\u001b[1;32m----> 6\u001b[0m \u001b[38;5;28;01mfrom\u001b[39;00m\u001b[38;5;250m \u001b[39m\u001b[38;5;21;01mweedsgalore_dataset_creation\u001b[39;00m\u001b[38;5;250m \u001b[39m\u001b[38;5;28;01mimport\u001b[39;00m weedsgalore_dataset\n",
      "File \u001b[1;32mc:\\Users\\cwinklm\\Documents\\aggrigator_experiments\\datasets\\Weedsgalore\\weedsgalore_dataset_creation.py:13\u001b[0m\n\u001b[0;32m      8\u001b[0m \u001b[38;5;28;01mimport\u001b[39;00m\u001b[38;5;250m \u001b[39m\u001b[38;5;21;01mmatplotlib\u001b[39;00m\u001b[38;5;21;01m.\u001b[39;00m\u001b[38;5;21;01mpyplot\u001b[39;00m\u001b[38;5;250m \u001b[39m\u001b[38;5;28;01mas\u001b[39;00m\u001b[38;5;250m \u001b[39m\u001b[38;5;21;01mplt\u001b[39;00m\n\u001b[0;32m     10\u001b[0m sys\u001b[38;5;241m.\u001b[39mpath\u001b[38;5;241m.\u001b[39mappend(\u001b[38;5;124m\"\u001b[39m\u001b[38;5;124mC:/Users/cwinklm/Documents/aggrigator_experiments/datasets/\u001b[39m\u001b[38;5;124m\"\u001b[39m)\n\u001b[1;32m---> 13\u001b[0m \u001b[38;5;28;01mfrom\u001b[39;00m\u001b[38;5;250m \u001b[39m\u001b[38;5;21;01m.\u001b[39;00m\u001b[38;5;21;01mdatasets\u001b[39;00m\u001b[38;5;21;01m.\u001b[39;00m\u001b[38;5;21;01mdataset\u001b[39;00m\u001b[38;5;250m \u001b[39m\u001b[38;5;28;01mimport\u001b[39;00m Dataset_Class\n\u001b[0;32m     22\u001b[0m \u001b[38;5;28;01mclass\u001b[39;00m\u001b[38;5;250m \u001b[39m\u001b[38;5;21;01mweedsgalore_dataset\u001b[39;00m(Dataset_Class):\n\u001b[0;32m     23\u001b[0m \u001b[38;5;250m    \u001b[39m\u001b[38;5;124;03m\"\"\"Abstract class to define the structure of a dataset.\u001b[39;00m\n\u001b[0;32m     24\u001b[0m \n\u001b[0;32m     25\u001b[0m \u001b[38;5;124;03m    Args:\u001b[39;00m\n\u001b[1;32m   (...)\u001b[0m\n\u001b[0;32m     31\u001b[0m \u001b[38;5;124;03m        **kwargs: Additional keyword arguments that can be passed to specific methods.\u001b[39;00m\n\u001b[0;32m     32\u001b[0m \u001b[38;5;124;03m    \"\"\"\u001b[39;00m\n",
      "\u001b[1;31mImportError\u001b[0m: attempted relative import with no known parent package"
     ]
    }
   ],
   "source": [
    "import os \n",
    "import sys\n",
    "import numpy as np\n",
    "import matplotlib.pyplot as plt\n",
    "print(os.getcwd())\n",
    "from weedsgalore_dataset_creation import weedsgalore_dataset"
   ]
  },
  {
   "cell_type": "markdown",
   "id": "8ae88e90",
   "metadata": {},
   "source": [
    "### Define Paths "
   ]
  },
  {
   "cell_type": "code",
   "execution_count": null,
   "id": "0a22f2c5",
   "metadata": {},
   "outputs": [],
   "source": [
    "image_path = \"/fast/AG_Kainmueller/data/weedsgalore/weedsgalore-dataset/\"\n",
    "uq_folder =  \"/fast/AG_Kainmueller/data/UQ_maps/weedsgalore/rgb_train/crops_vs_weed/dropout/au/\"\n",
    "pred_folder =  \"/fast/AG_Kainmueller/data/UQ_maps/weedsgalore/rgb_train/crops_vs_weed/dropout/pred/\"\n",
    "metadata_file = \"/fast/AG_Kainmueller/data/UQ_maps/weedsgalore/rgb_train/crops_vs_weed/dropout/metadata.json\""
   ]
  },
  {
   "cell_type": "markdown",
   "id": "6130738b",
   "metadata": {},
   "source": [
    "### Initialize Dataset"
   ]
  },
  {
   "cell_type": "code",
   "execution_count": null,
   "id": "41fa0450",
   "metadata": {},
   "outputs": [],
   "source": [
    "wg_dataset = weedsgalore_dataset(image_path=image_path, \n",
    "                                 mask_path=image_path, \n",
    "                                 uq_map_path=uq_folder, \n",
    "                                 prediction_path=pred_folder, \n",
    "                                 semantic_mapping_path=\"\", \n",
    "                                 metadata_file = metadata_file)"
   ]
  },
  {
   "cell_type": "markdown",
   "id": "b120805f",
   "metadata": {},
   "source": [
    "### Print Info"
   ]
  },
  {
   "cell_type": "code",
   "execution_count": null,
   "id": "ff79d91e",
   "metadata": {},
   "outputs": [],
   "source": [
    "info = wg_dataset.get_info()\n",
    "info"
   ]
  },
  {
   "cell_type": "markdown",
   "id": "cc3c0951",
   "metadata": {},
   "source": [
    "### Plot Sample"
   ]
  },
  {
   "cell_type": "code",
   "execution_count": null,
   "id": "9a8e5d55",
   "metadata": {},
   "outputs": [
    {
     "ename": "NameError",
     "evalue": "name 'wg_dataset' is not defined",
     "output_type": "error",
     "traceback": [
      "\u001b[1;31m---------------------------------------------------------------------------\u001b[0m",
      "\u001b[1;31mNameError\u001b[0m                                 Traceback (most recent call last)",
      "Cell \u001b[1;32mIn[9], line 6\u001b[0m\n\u001b[0;32m      3\u001b[0m plt\u001b[38;5;241m.\u001b[39mfigure(figsize\u001b[38;5;241m=\u001b[39m(\u001b[38;5;241m12\u001b[39m, \u001b[38;5;241m6\u001b[39m))\n\u001b[0;32m      5\u001b[0m plt\u001b[38;5;241m.\u001b[39msubplot(\u001b[38;5;241m141\u001b[39m)\n\u001b[1;32m----> 6\u001b[0m plt\u001b[38;5;241m.\u001b[39mimshow(\u001b[43mwg_dataset\u001b[49m[IDX][\u001b[38;5;124m\"\u001b[39m\u001b[38;5;124mimage\u001b[39m\u001b[38;5;124m\"\u001b[39m]\u001b[38;5;241m.\u001b[39mtranspose(\u001b[38;5;241m1\u001b[39m,\u001b[38;5;241m2\u001b[39m,\u001b[38;5;241m0\u001b[39m))\n\u001b[0;32m      7\u001b[0m plt\u001b[38;5;241m.\u001b[39mtitle(\u001b[38;5;124m\"\u001b[39m\u001b[38;5;124mImage\u001b[39m\u001b[38;5;124m\"\u001b[39m)\n\u001b[0;32m      8\u001b[0m plt\u001b[38;5;241m.\u001b[39maxis(\u001b[38;5;124m\"\u001b[39m\u001b[38;5;124moff\u001b[39m\u001b[38;5;124m\"\u001b[39m)\n",
      "\u001b[1;31mNameError\u001b[0m: name 'wg_dataset' is not defined"
     ]
    },
    {
     "data": {
      "image/png": "[encoded data removed]",
      "text/plain": [
       "<Figure size 1200x600 with 1 Axes>"
      ]
     },
     "metadata": {},
     "output_type": "display_data"
    }
   ],
   "source": [
    "IDX = 2\n",
    "\n",
    "plt.figure(figsize=(12, 6))\n",
    "\n",
    "plt.subplot(141)\n",
    "plt.imshow(wg_dataset[IDX][\"image\"].transpose(1,2,0))\n",
    "plt.title(\"Image\")\n",
    "plt.axis(\"off\")\n",
    "\n",
    "plt.subplot(142)\n",
    "plt.imshow(wg_dataset[IDX][\"mask\"])\n",
    "plt.title(\"mask\")\n",
    "plt.axis(\"off\")\n",
    "\n",
    "plt.subplot(143)\n",
    "plt.imshow(wg_dataset[IDX][\"prediction\"].reshape(600, 600))\n",
    "plt.title(\"prediction\")\n",
    "plt.axis(\"off\")\n",
    "\n",
    "plt.subplot(144)\n",
    "plt.imshow(wg_dataset[IDX][\"uq_map\"])\n",
    "plt.title(wg_dataset.get_info()[\"decomposition\"])\n",
    "plt.axis(\"off\")\n",
    "\n",
    "plt.suptitle(wg_dataset[0][\"sample_name\"])"
   ]
  }
 ],
 "metadata": {
  "kernelspec": {
   "display_name": "work_env",
   "language": "python",
   "name": "python3"
  },
  "language_info": {
   "codemirror_mode": {
    "name": "ipython",
    "version": 3
   },
   "file_extension": ".py",
   "mimetype": "text/x-python",
   "name": "python",
   "nbconvert_exporter": "python",
   "pygments_lexer": "ipython3",
   "version": "3.12.8"
  }
 },
 "nbformat": 4,
 "nbformat_minor": 5
}
