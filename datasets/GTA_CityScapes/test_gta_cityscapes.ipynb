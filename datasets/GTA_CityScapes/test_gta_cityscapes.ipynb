{
 "cells": [
  {
   "cell_type": "code",
   "execution_count": null,
   "id": "08f68ccd",
   "metadata": {},
   "outputs": [],
   "source": [
    "import torch\n",
    "import sys \n",
    "import os \n",
    "\n",
    "import numpy as np\n",
    "import matplotlib.pyplot as plt\n",
    "\n",
    "from PIL import Image\n",
    "\n",
    "from gta_cityscapes_dataset_creation import gta_cityscapes_dataset"
   ]
  },
  {
   "cell_type": "code",
   "execution_count": null,
   "id": "d43d6899",
   "metadata": {},
   "outputs": [],
   "source": [
    "image_path = \"/fast/AG_Kainmueller/data/GTA/OriginalData/preprocessed/images/\"\n",
    "mask_path = \"/fast/AG_Kainmueller/data/GTA/OriginalData/preprocessed/labels/\"\n",
    "uq_map_path = \"/fast/AG_Kainmueller/data/GTA_CityScapes_UQ/Dropout-Final/test_results/fold0_seed123/ood/pred_entropy/\"\n",
    "prediction_path = \"/fast/AG_Kainmueller/data/GTA_CityScapes_UQ/Dropout-Final/test_results/fold0_seed123/ood/pred_seg/\""
   ]
  },
  {
   "cell_type": "code",
   "execution_count": null,
   "id": "598213c4",
   "metadata": {},
   "outputs": [],
   "source": [
    "sc_dset = gta_cityscapes_dataset(image_path=image_path, \n",
    "                             mask_path= mask_path, \n",
    "                             uq_map_path=uq_map_path, \n",
    "                             prediction_path=prediction_path, \n",
    "                             semantic_mapping_path=\"\")"
   ]
  },
  {
   "cell_type": "code",
   "execution_count": null,
   "id": "f41df548",
   "metadata": {},
   "outputs": [],
   "source": [
    "\n",
    "IDX = 99\n",
    "plt.figure(figsize=(20,5))\n",
    "\n",
    "plt.subplot(141)\n",
    "plt.imshow(sc_dset[IDX][\"image\"].transpose(1,2,0))\n",
    "plt.axis(\"off\")\n",
    "\n",
    "plt.subplot(142)\n",
    "plt.imshow(sc_dset[IDX][\"mask\"])\n",
    "plt.axis(\"off\")\n",
    "\n",
    "plt.subplot(143)\n",
    "plt.imshow(sc_dset[IDX][\"uq_map\"])\n",
    "plt.axis(\"off\")\n",
    "\n",
    "plt.subplot(144)\n",
    "plt.imshow(sc_dset[IDX][\"prediction\"])\n",
    "plt.axis(\"off\")\n",
    "\n",
    "plt.suptitle(sc_dset[IDX][\"sample_name\"])\n",
    "\n",
    "plt.show()"
   ]
  }
 ],
 "metadata": {
  "language_info": {
   "name": "python"
  }
 },
 "nbformat": 4,
 "nbformat_minor": 5
}
