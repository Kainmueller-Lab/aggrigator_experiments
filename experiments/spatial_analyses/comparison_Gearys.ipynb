{
 "cells": [
  {
   "cell_type": "code",
   "execution_count": 12,
   "metadata": {},
   "outputs": [],
   "source": [
    "import numpy as np \n",
    "from pathlib import Path\n",
    "from aggrigator.optimized_gearys import fast_gearys_C\n",
    "from aggrigator.methods import AggregationMethods as am\n",
    "from aggrigator.optimized_gearys import fast_gearys_C\n",
    "from aggrigator.uncertainty_maps import UncertaintyMap \n"
   ]
  },
  {
   "cell_type": "code",
   "execution_count": 4,
   "metadata": {},
   "outputs": [],
   "source": [
    "task = 'instance'\n",
    "model_noise = 0\n",
    "variation  = 'nuclei_intensity'\n",
    "data_noise = '0_75'\n",
    "decomp = 'pu'\n",
    "uq_method = 'tta'\n",
    "\n",
    "path = '/home/vanessa/Documents/data/uncertainty_arctique_v1-0-corrected_14/'\n",
    "uq_path = Path(path).joinpath(\"UQ_maps\")\n",
    "metadata_path = Path(path).joinpath(\"UQ_metadata\")"
   ]
  },
  {
   "cell_type": "code",
   "execution_count": 13,
   "metadata": {},
   "outputs": [],
   "source": [
    "def preprocess_slice_spatial_measure(maps):\n",
    "    \"\"\"Ensures that hetmaps do not have negative values\"\"\"\n",
    "    return np.clip(np.array(maps), 0, None)"
   ]
  },
  {
   "cell_type": "code",
   "execution_count": 14,
   "metadata": {},
   "outputs": [
    {
     "name": "stdout",
     "output_type": "stream",
     "text": [
      "Loading uncertainty map: instance_noise_0_nuclei_intensity_0_75_tta_pu.npy\n"
     ]
    }
   ],
   "source": [
    "# Load uncertainty maps\n",
    "map_type = f\"{task}_noise_{model_noise}_{variation}_{data_noise}_{uq_method}_{decomp}.npy\"\n",
    "map_file = uq_path.joinpath(map_type)\n",
    "print(f\"Loading uncertainty map: {map_type}\")\n",
    "\n",
    "uq_maps = preprocess_slice_spatial_measure(np.load(map_file))\n",
    "    \n",
    "# Load metadata indices\n",
    "metadata_type = f\"{task}_noise_{model_noise}_{variation}_{data_noise}_{uq_method}_{decomp}_sample_idx.npy\"\n",
    "metadata_file_path = metadata_path.joinpath(metadata_type)\n",
    "indices = np.load(metadata_file_path)"
   ]
  },
  {
   "cell_type": "code",
   "execution_count": 15,
   "metadata": {},
   "outputs": [],
   "source": [
    "uq_maps = [UncertaintyMap(array=array, mask=None, name=None) for array in uq_maps]\n",
    "idx = 1"
   ]
  },
  {
   "cell_type": "code",
   "execution_count": 16,
   "metadata": {},
   "outputs": [
    {
     "data": {
      "text/plain": [
       "0.07213056640703336"
      ]
     },
     "execution_count": 16,
     "metadata": {},
     "output_type": "execute_result"
    }
   ],
   "source": [
    "am.gearys_C(uq_maps[idx], None)"
   ]
  },
  {
   "cell_type": "code",
   "execution_count": 18,
   "metadata": {},
   "outputs": [
    {
     "data": {
      "text/plain": [
       "0.07219286125756112"
      ]
     },
     "execution_count": 18,
     "metadata": {},
     "output_type": "execute_result"
    }
   ],
   "source": [
    "fast_gearys_C(uq_maps[idx], None)"
   ]
  },
  {
   "cell_type": "code",
   "execution_count": 31,
   "metadata": {},
   "outputs": [
    {
     "data": {
      "text/plain": [
       "True"
      ]
     },
     "execution_count": 31,
     "metadata": {},
     "output_type": "execute_result"
    }
   ],
   "source": [
    "0.07219286125756112 - 0.07213056640703336 < 1e-4"
   ]
  },
  {
   "cell_type": "code",
   "execution_count": 20,
   "metadata": {},
   "outputs": [],
   "source": [
    "def test_gearys_implementation():\n",
    "    \"\"\"\n",
    "    Test function to verify the fast implementation matches libpysal.\n",
    "    \"\"\"\n",
    "    from esda.geary import Geary\n",
    "    import libpysal\n",
    "    \n",
    "    # Create a small test array\n",
    "    test_array = np.array([[1, 2, 3], \n",
    "                          [4, 5, 6],\n",
    "                          [7, 8, 9]])\n",
    "    test_map = UncertaintyMap(array=test_array, mask=None, name=None)\n",
    "    \n",
    "    # Compute using original libpysal method\n",
    "    h, w = test_array.shape\n",
    "    w_libpysal = libpysal.weights.lat2W(h, w)\n",
    "    geary_original = Geary(test_array.ravel(), w_libpysal)\n",
    "    \n",
    "    # Compute using our fast method\n",
    "    geary_fast = fast_gearys_C(test_map, None)\n",
    "    \n",
    "    print(f\"Original Geary's C: {geary_original.C}\")\n",
    "    print(f\"Fast Geary's C: {geary_fast}\")\n",
    "    print(f\"Absolute difference: {abs(geary_original.C - geary_fast)}\")\n",
    "    \n",
    "    return abs(geary_original.C - geary_fast) < 1e-10"
   ]
  },
  {
   "cell_type": "code",
   "execution_count": 21,
   "metadata": {},
   "outputs": [
    {
     "name": "stdout",
     "output_type": "stream",
     "text": [
      "Original Geary's C: 0.3333333333333333\n",
      "Fast Geary's C: 0.3333333333333333\n",
      "Absolute difference: 0.0\n"
     ]
    },
    {
     "data": {
      "text/plain": [
       "True"
      ]
     },
     "execution_count": 21,
     "metadata": {},
     "output_type": "execute_result"
    }
   ],
   "source": [
    "test_gearys_implementation()"
   ]
  }
 ],
 "metadata": {
  "kernelspec": {
   "display_name": "Python 3",
   "language": "python",
   "name": "python3"
  },
  "language_info": {
   "codemirror_mode": {
    "name": "ipython",
    "version": 3
   },
   "file_extension": ".py",
   "mimetype": "text/x-python",
   "name": "python",
   "nbconvert_exporter": "python",
   "pygments_lexer": "ipython3",
   "version": "3.10.12"
  }
 },
 "nbformat": 4,
 "nbformat_minor": 2
}
